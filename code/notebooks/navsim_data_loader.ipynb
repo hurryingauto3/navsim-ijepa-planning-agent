{
 "cells": [
  {
   "cell_type": "code",
   "execution_count": null,
   "id": "1bbb21a1-7d15-4d99-930a-0756a634215c",
   "metadata": {},
   "outputs": [],
   "source": [
    "!pip install pillow transformers > /dev/null 2>&1\n",
    "!pip install --upgrade torch torchvision torchaudio > /dev/null 2>&1"
   ]
  },
  {
   "cell_type": "code",
   "execution_count": null,
   "id": "920a91fc-d0d2-4fd6-b4e6-d83034bc932e",
   "metadata": {},
   "outputs": [],
   "source": [
    "!python -c \"import torch; print(torch.__version__)\""
   ]
  },
  {
   "cell_type": "code",
   "execution_count": null,
   "id": "1198fe0a-2764-47d1-965f-9e2b86441052",
   "metadata": {},
   "outputs": [],
   "source": [
    "import requests\n",
    "import torch\n",
    "from PIL import Image\n",
    "from torch.nn.functional import cosine_similarity\n",
    "import matplotlib.pyplot as plt\n",
    "from transformers import AutoModel, AutoProcessor\n",
    "\n",
    "import os\n",
    "from pathlib import Path\n",
    "\n",
    "import hydra\n",
    "from hydra.utils import instantiate\n",
    "import numpy as np\n",
    "import matplotlib.pyplot as plt\n",
    "\n",
    "from navsim.common.dataloader import SceneLoader\n",
    "from navsim.common.dataclasses import SceneFilter, SensorConfig, Scene, Camera\n",
    "\n",
    "torch.cuda.is_available()"
   ]
  },
  {
   "cell_type": "code",
   "execution_count": null,
   "id": "02730124-1887-4de3-a0ef-13cd97d9e089",
   "metadata": {},
   "outputs": [],
   "source": [
    "import hydra\n",
    "from hydra.utils import instantiate\n",
    "from navsim.common.dataloader import SceneLoader\n",
    "from navsim.common.dataclasses import SceneFilter, SensorConfig, Scene\n",
    "from pathlib import Path\n",
    "import numpy as np\n",
    "from PIL import Image # Make sure PIL (Pillow) is imported if you haven't already\n",
    "\n",
    "SPLIT = \"mini\"  # [\"mini\", \"test\", \"trainval\"]\n",
    "FILTER = \"all_scenes\" # Or your specific filter if needed\n",
    "\n",
    "hydra.initialize(config_path=\"../navsim/navsim/planning/script/config/common/train_test_split/scene_filter\", version_base=None) # Add version_base=None to silence hydra warning\n",
    "cfg = hydra.compose(config_name=FILTER)\n",
    "scene_filter: SceneFilter = instantiate(cfg)\n",
    "openscene_data_root = Path(\"../dataset\")\n",
    "\n",
    "# Define the base paths correctly based on your directory structure\n",
    "navsim_log_path = openscene_data_root / f\"{SPLIT}_navsim_logs\" / SPLIT\n",
    "sensor_blob_path = openscene_data_root / f\"{SPLIT}_sensor_blobs\" / \"sensor_blobs\" / SPLIT\n",
    "\n",
    "# Optional: Check if paths exist before creating SceneLoader\n",
    "if not navsim_log_path.exists():\n",
    "    raise FileNotFoundError(f\"Navsim log path not found: {navsim_log_path}\")\n",
    "if not sensor_blob_path.exists():\n",
    "     raise FileNotFoundError(f\"Sensor blob path not found: {sensor_blob_path}\")\n"
   ]
  },
  {
   "cell_type": "code",
   "execution_count": null,
   "id": "81bc2540-d2be-4434-90dd-24220f1515e7",
   "metadata": {},
   "outputs": [],
   "source": [
    "\n",
    "print(f\"Using Navsim log path: {navsim_log_path}\")\n",
    "print(f\"Using Sensor blob path: {sensor_blob_path}\")\n",
    "\n",
    "scene_loader = SceneLoader(\n",
    "    data_path=navsim_log_path,\n",
    "    original_sensor_path=sensor_blob_path,\n",
    "    scene_filter=scene_filter,\n",
    "    # Check if these synthetic paths are needed and exist correctly.\n",
    "    # They might also have incorrect base paths if you're using them.\n",
    "    # Setting to None if not used/downloaded.\n",
    "    synthetic_sensor_path=None, # openscene_data_root / \"warmup_two_stage/sensor_blobs\",\n",
    "    synthetic_scenes_path=None, # openscene_data_root / \"warmup_two_stage/synthetic_scene_pickles\",\n",
    "    sensor_config=SensorConfig.build_all_sensors(),\n",
    ")\n",
    "\n",
    "print(f\"Loaded {len(scene_loader)} scenes from {len(scene_loader.tokens)} tokens.\")\n",
    "\n"
   ]
  },
  {
   "cell_type": "code",
   "execution_count": null,
   "id": "69653f9d-7838-4f3a-882a-a29d976b1bc3",
   "metadata": {},
   "outputs": [],
   "source": [
    "\n",
    "# --- Now try loading and viewing a scene ---\n",
    "if scene_loader.tokens: # Check if any tokens were loaded\n",
    "    token = np.random.choice(scene_loader.tokens)\n",
    "    print(f\"Attempting to load scene for token: {token}\")\n",
    "    scene = scene_loader.get_scene_from_token(token)\n",
    "    print(f\"Successfully loaded scene for token: {token}\")\n",
    "\n",
    "    # Example: Access and display the front camera image of the current frame (frame_idx=0)\n",
    "    if scene.frames and scene.frames[0].cameras: # Check if frame and its cameras object exist\n",
    "        current_frame = scene.frames[0]\n",
    "        cameras_object = current_frame.cameras # Get the Cameras object\n",
    "\n",
    "        # Access the 'cam_f0' attribute directly from the Cameras object\n",
    "        front_camera_data: Camera = cameras_object.cam_f0\n",
    "\n",
    "        # Check if the image attribute within the Camera object is not None\n",
    "        if front_camera_data.image is not None:\n",
    "            print(\"Front camera image loaded successfully.\")\n",
    "            # Display the image\n",
    "            plt.figure(figsize=(10, 6)) # Optional: Adjust figure size\n",
    "            plt.imshow(front_camera_data.image)\n",
    "            plt.title(f\"Front Camera (CAM_F0) - Token: {token}\")\n",
    "            plt.axis('off') # Hide axes\n",
    "            plt.show()\n",
    "        else:\n",
    "            # This case occurs if SensorConfig excluded cam_f0 or data was missing\n",
    "            print(\"Front camera (cam_f0) image data is None.\")\n",
    "    else:\n",
    "        print(\"Could not access frame or cameras data for the current frame.\")"
   ]
  },
  {
   "cell_type": "code",
   "execution_count": null,
   "id": "aae08e36-ac88-43b7-b025-d0307cceff3b",
   "metadata": {},
   "outputs": [],
   "source": []
  }
 ],
 "metadata": {
  "kernelspec": {
   "display_name": "navsim",
   "language": "python",
   "name": "navsim"
  },
  "language_info": {
   "codemirror_mode": {
    "name": "ipython",
    "version": 3
   },
   "file_extension": ".py",
   "mimetype": "text/x-python",
   "name": "python",
   "nbconvert_exporter": "python",
   "pygments_lexer": "ipython3",
   "version": "3.9.21"
  }
 },
 "nbformat": 4,
 "nbformat_minor": 5
}
